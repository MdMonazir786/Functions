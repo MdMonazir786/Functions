{
  "nbformat": 4,
  "nbformat_minor": 0,
  "metadata": {
    "colab": {
      "provenance": []
    },
    "kernelspec": {
      "name": "python3",
      "display_name": "Python 3"
    },
    "language_info": {
      "name": "python"
    }
  },
  "cells": [
    {
      "cell_type": "markdown",
      "source": [
        "#Functions:\n",
        "\n",
        "#Theory Questions:\n"
      ],
      "metadata": {
        "id": "_LhWhwxxEQx8"
      }
    },
    {
      "cell_type": "markdown",
      "source": [
        "1. What is the difference between a function and a method in Python?\n",
        "-> Function:\n",
        "\n",
        "a. A function is a block of code that performs a task and can be called independently.\n",
        "\n",
        "b. A function is defined using the def keyword outside of a class.\n",
        "\n",
        "c. \tIt is called using its name directly.\n",
        "\n",
        "d. \tFunctions can work independently of objects.\n",
        "\n",
        "e. Examples: print(), len(), custom functions.\n",
        "\n",
        "Method:\n",
        "\n",
        "a. A method is a function that is associated with an object (usually a class instance).\n",
        "\n",
        "b. A method is defined inside a class and works on class objects.\n",
        "\n",
        "c. It is called using object.method() syntax. ( Called on an object using dot . notation.)\n",
        "\n",
        "d. Methods are dependent on object data/state.\n",
        "\n",
        "e. Examples: \"hello\".upper(), list.append()\n",
        "\n",
        "2. Explain the concept of function arguments and parameters in Python.\n",
        "-> Argument:\n",
        "The value that you pass to the function when calling it.\n",
        "\n",
        "Parameter:\n",
        "A variable listed inside the parentheses in the function definition.\n",
        "\n",
        "Parameters: a, b\n",
        "\n",
        "def multiply(a, b):\n",
        "\n",
        "    return a * b\n",
        "\n",
        "Arguments: 4, 5\n",
        "\n",
        "result = multiply(4, 5)\n",
        "\n",
        "print(\"Result:\", result)  # Output: 20\n",
        "\n",
        "3. What are the different ways to define and call a function in Python?\n",
        "-> Python allows several ways to define and call functions depending on the use case. Below are the most common ones:\n",
        "\n",
        "a. Regular Function (Standard Definition & Call) : Using the def keyword with parameters (optional).\n",
        "\n",
        "Define function:\n",
        "\n",
        "def greet(name):\n",
        "\n",
        "    print(\"Hello,\", name)\n",
        "\n",
        "Call function:\n",
        "\n",
        "greet(\"Alice\")\n",
        "\n",
        "\n",
        "b. Function with Default Parameters : We can set default values for parameters so that the function can be called with fewer arguments.\n",
        "\n",
        "def greet(name, message=\"Welcome!\"):\n",
        "\n",
        "    print(f\"Hello {name}, {message}\")\n",
        "\n",
        "Call with one argument:\n",
        "\n",
        "greet(\"Bob\")\n",
        "\n",
        "Call with both arguments:\n",
        "\n",
        "greet(\"Charlie\", \"Good Morning!\")\n",
        "\n",
        "\n",
        "c. Other Ways (For Advanced Use):\n",
        "\n",
        "(i) Lambda Function\tAnonymous one-line function: lambda x: x + 1\n",
        "\n",
        "\n",
        "(ii) Function with *args/**kwargs\tAccepts variable number of positional or keyword arguments.\n",
        "\n",
        "(iii) Function inside a class (Method)\tDefined within a class and called on an object.\n",
        "\n",
        "4. What is the purpose of the `return` statement in a Python function?\n",
        "-> The return statement in Python is used to:\n",
        "\n",
        "a. Send a Result Back to the Caller :\n",
        "It ends the function execution and sends data back to where the function was called.\n",
        "\n",
        "def add(a, b):\n",
        "\n",
        "    return a + b\n",
        "\n",
        "result = add(3, 5)\n",
        "\n",
        "print(result)  # Output: 8\n",
        "\n",
        "\n",
        "b. Exit the Function Early :\n",
        "When return is reached, the function stops running — even if there’s more code below it.\n",
        "\n",
        "def check_even(n):\n",
        "\n",
        "    if n % 2 == 0:\n",
        "        return \"Even\"\n",
        "    return \"Odd\"\n",
        "\n",
        "print(check_even(4))  # Output: Even\n",
        "\n",
        "c. Return Multiple Values (as a Tuple) :\n",
        "We can return more than one value from a function.\n",
        "\n",
        "def calculate(a, b):\n",
        "\n",
        "    return a + b, a * b\n",
        "\n",
        "sum_result, product_result = calculate(2, 3)\n",
        "\n",
        "print(sum_result, product_result)  # Output: 5 6\n",
        "\n",
        "\n",
        "5.  What are iterators in Python and how do they differ from iterables?\n",
        "-> The difference between iterators and iterables is key when working with loops and collections in Python.\n",
        "\n",
        "a. Iterable :\n",
        "An iterable is any Python object capable of returning its elements one at a time. It must implement the __iter__() method.\n",
        "\n",
        "Examples: lists, tuples, strings, sets, dictionaries.\n",
        "\n",
        "my_list = [1, 2, 3]\n",
        "\n",
        "for num in my_list:\n",
        "\n",
        "    print(num)\n",
        "\n",
        "b. Iterator:\n",
        "An iterator is an object that represents a stream of data and implements two methods:\n",
        "\n",
        "(i) __iter__() - returns the iterator itself.\n",
        "\n",
        "(ii) __next__() - returns the next item or raises StopIteration if no items left.\n",
        "\n",
        "my_list = [1, 2, 3]\n",
        "\n",
        "it = iter(my_list)  # Create iterator from iterable\n",
        "\n",
        "print(next(it))  # Output: 1\n",
        "\n",
        "print(next(it))  # Output: 2\n",
        "\n",
        "print(next(it))  # Output: 3\n",
        "\n",
        "print(next(it))  # Raises StopIteration\n",
        "\n",
        "6. Explain the concept of generators in Python and how they are defined.\n",
        "-> A generator is a special type of iterator in Python that allow to iterate over data lazily — generating items one at a time, only as needed.\n",
        "\n",
        "How to Define a Generator:\n",
        "\n",
        "Using yield in a function:\n",
        "\n",
        "def count_up_to(n):\n",
        "\n",
        "    i = 1\n",
        "    while i <= n:\n",
        "        yield i\n",
        "        i += 1\n",
        "\n",
        "counter = count_up_to(3)\n",
        "\n",
        "for num in counter:\n",
        "\n",
        "    print(num)\n",
        "\n",
        "7. What are the advantages of using generators over regular functions?\n",
        "-> Advantages of Using Generators Over Regular Functions in Python:\n",
        "Generators offer several powerful benefits, especially when working with large datasets or streams of data:\n",
        "\n",
        "a. Memory Efficiency:\n",
        "\n",
        "(i) Generators yield one value at a time and do not store the entire sequence in memory.\n",
        "\n",
        "(ii) Ideal for large data processing (e.g., reading big files, streaming data).\n",
        "\n",
        "b. Lazy Evaluation:\n",
        "\n",
        "(i) Values are produced on-the-fly and only when needed.\n",
        "\n",
        "(ii) This speeds up performance when not all values are required at once.\n",
        "\n",
        "c. Better Performance for Iteration:\n",
        "Since generators avoid building full lists or structures, they’re faster for iterative operations.\n",
        "\n",
        "d. State Preservation:\n",
        "\n",
        "(i) Generators automatically remember their execution state between yield calls.\n",
        "\n",
        "(ii) No need to manage counters or indexes manually.\n",
        "\n",
        "e. Cleaner Code for Pipelines:\n",
        "You can chain generators to process data in stages, keeping code modular and readable.\n",
        "\n",
        "f. Infinite Sequences:\n",
        "Generators make it easy to implement infinite data streams without crashing the program.\n",
        "\n",
        "Example:\n",
        "\n",
        "def infinite_counter():\n",
        "\n",
        "    i = 0\n",
        "    while True:\n",
        "        yield i\n",
        "        i += 1\n",
        "\n",
        "8.  What is a lambda function in Python and when is it typically used?\n",
        "-> A lambda function is a small, anonymous function defined using the lambda keyword. It's typically used for short, throwaway functions that are not reused.\n",
        "\n",
        "lambda arguments: expression\n",
        "\n",
        "Common Use Cases of Lambda Functions:\n",
        "\n",
        "(i) With map():\n",
        "\n",
        "Example:\n",
        "\tmap(lambda x: x * 2, [1, 2, 3])\n",
        "\n",
        "(ii) With filter():\n",
        "\n",
        "Example:\n",
        "\tfilter(lambda x: x > 5, [3, 6, 9])\n",
        "\n",
        "(iii) With sorted() for custom sort:\n",
        "\n",
        "Example:\n",
        "\tsorted(words, key=lambda x: len(x))\n",
        "\n",
        "\n",
        "(iv) In-place small logic:\n",
        "\tUsed instead of defining a full def function for simple operations.\n",
        "\n",
        "9. Explain the purpose and usage of the `map()` function in Python.\n",
        "-> Purpose:\n",
        "To transform a sequence by applying the same operation to each item, without using explicit loops.\n",
        "\n",
        "Example 1: Using map() with a built-in function.\n",
        "\n",
        "Convert numbers to their squares.\n",
        "\n",
        "numbers = [1, 2, 3, 4, 5]\n",
        "\n",
        "squares = map(lambda x: x**2, numbers)\n",
        "\n",
        "print(list(squares))  # Output: [1, 4, 9, 16, 25]\n",
        "\n",
        "Example 2: Using map() with a custom function.\n",
        "\n",
        "def capitalize(word):\n",
        "\n",
        "    return word.upper()\n",
        "\n",
        "words = ['python', 'java', 'c++']\n",
        "\n",
        "result = map(capitalize, words)\n",
        "\n",
        "print(list(result))  # Output: ['PYTHON', 'JAVA', 'C++']\n",
        "\n",
        "\n",
        "10. What is the difference between `map()`, `reduce()`, and `filter()` functions in Python?\n",
        "-> All three are functional programming tools used to process iterables like lists or tuples, but they serve different purposes:\n",
        "\n",
        "a. map() - Transforms Each Element.\n",
        "\n",
        "(i) Applies a function to every item in an iterable.\n",
        "\n",
        "(ii) Returns a new iterable with the transformed items.\n",
        "\n",
        "Syntax:\n",
        "\n",
        "map(function, iterable)\n",
        "\n",
        "Example:\n",
        "\n",
        "nums = [1, 2, 3, 4]\n",
        "\n",
        "squares = map(lambda x: x**2, nums)\n",
        "\n",
        "print(list(squares))  # Output: [1, 4, 9, 16]\n",
        "\n",
        "b. filter() - Filters Items Based on a Condition.\n",
        "\n",
        "(i) Applies a function that returns True/False.\n",
        "\n",
        "(ii) Keeps only the items where the function returns True.\n",
        "\n",
        "Syntax:\n",
        "\n",
        "filter(function, iterable)\n",
        "\n",
        "Example:\n",
        "\n",
        "nums = [1, 2, 3, 4, 5]\n",
        "\n",
        "even = filter(lambda x: x % 2 == 0, nums)\n",
        "\n",
        "print(list(even))  # Output: [2, 4]\n",
        "\n",
        "c. reduce() - Reduces All Items to a Single Value.\n",
        "\n",
        "(i) Applies a function cumulatively to the items.\n",
        "\n",
        "(ii) Combines them into one result (e.g., sum, product).\n",
        "\n",
        "(iii) Needs to be imported from functools.\n",
        "\n",
        "Syntax:\n",
        "\n",
        "from functools import reduce\n",
        "\n",
        "reduce(function, iterable)\n",
        "\n",
        "Example:\n",
        "\n",
        "from functools import reduce\n",
        "\n",
        "nums = [1, 2, 3, 4]\n",
        "\n",
        "total = reduce(lambda x, y: x + y, nums)\n",
        "\n",
        "print(total)  # Output: 10\n",
        "\n",
        "11. Using pen & Paper write the internal mechanism for sum operation using  reduce function on this given\n",
        "list:[47,11,42,13];\n",
        "-> from functools import reduce:\n",
        "\n",
        "reduce(lambda x, y: x + y, [47, 11, 42, 13])\n",
        "\n",
        ". Internal Working (Pairwise Operation):\n",
        "\n",
        "reduce(function, iterable) works like this:\n",
        "\n",
        "Step 1: Apply function to first two elements:\n",
        "        x = 47, y = 11 → result = 58\n",
        "\n",
        "Step 2: Use result from Step 1 and next element:\n",
        "        x = 58, y = 42 → result = 100\n",
        "\n",
        "Step 3: Use result from Step 2 and next element:\n",
        "        x = 100, y = 13 → result = 113\n",
        "\n",
        ". In Tabular Form:\n",
        "\n",
        "| Step | x   | y  | x + y = Result |\n",
        "| ---- | --- | -- | -------------- |\n",
        "| 1    | 47  | 11 | 58             |\n",
        "| 2    | 58  | 42 | 100            |\n",
        "| 3    | 100 | 13 | 113            |\n",
        "\n",
        "\n",
        "\n",
        "\n",
        "\n",
        "\n",
        "\n",
        "\n",
        "\n",
        "\n",
        "\n",
        "\n",
        "\n",
        "\n",
        "\n"
      ],
      "metadata": {
        "id": "ZvRmzO-6ErIn"
      }
    },
    {
      "cell_type": "markdown",
      "source": [
        "#Practical Questions:"
      ],
      "metadata": {
        "id": "TAO3MFtIrq72"
      }
    },
    {
      "cell_type": "code",
      "source": [
        "# Write a Python function that takes a list of numbers as input and returns the sum of all even numbers in the list.\n",
        "\n",
        "def sum_of_even_numbers(numbers):\n",
        "    even_sum = 0\n",
        "    for num in numbers:\n",
        "        if num % 2 == 0:\n",
        "            even_sum += num\n",
        "    return even_sum\n"
      ],
      "metadata": {
        "id": "b637XHVDr90E"
      },
      "execution_count": 16,
      "outputs": []
    },
    {
      "cell_type": "code",
      "source": [
        "my_list = [10, 5, 8, 13, 22, 7]\n",
        "result = sum_of_even_numbers(my_list)\n",
        "print(\"Sum of even numbers:\", result)\n"
      ],
      "metadata": {
        "colab": {
          "base_uri": "https://localhost:8080/"
        },
        "id": "OWwC4B6IuZ71",
        "outputId": "29e7c131-325c-4fa9-f981-59fe44a66439"
      },
      "execution_count": 17,
      "outputs": [
        {
          "output_type": "stream",
          "name": "stdout",
          "text": [
            "Sum of even numbers: 40\n"
          ]
        }
      ]
    },
    {
      "cell_type": "code",
      "source": [
        "# Create a Python function that accepts a string and returns the reverse of that string.\n",
        "\n",
        "def reverse_string(text):\n",
        "    return text[::-1]\n"
      ],
      "metadata": {
        "id": "Ivy0q1nFvWBM"
      },
      "execution_count": 18,
      "outputs": []
    },
    {
      "cell_type": "code",
      "source": [
        "input_str = \"MdMonazirHussain\"\n",
        "result = reverse_string(input_str)\n",
        "print(\"Reversed string:\", result)\n"
      ],
      "metadata": {
        "colab": {
          "base_uri": "https://localhost:8080/"
        },
        "id": "N148l7VNvoOG",
        "outputId": "8e277a55-76a7-486d-c9c6-48d0c736f62d"
      },
      "execution_count": 20,
      "outputs": [
        {
          "output_type": "stream",
          "name": "stdout",
          "text": [
            "Reversed string: niassuHrizanoMdM\n"
          ]
        }
      ]
    },
    {
      "cell_type": "code",
      "source": [
        "#  Implement a Python function that takes a list of integers and returns a new list containing the squares of each number.\n",
        "\n",
        "def square_numbers(numbers):\n",
        "    squares = []\n",
        "    for num in numbers:\n",
        "        squares.append(num ** 2)\n",
        "    return squares\n"
      ],
      "metadata": {
        "id": "KYYNnHWCwDM3"
      },
      "execution_count": 21,
      "outputs": []
    },
    {
      "cell_type": "code",
      "source": [
        "my_list = [1, 2, 3, 4, 5]\n",
        "result = square_numbers(my_list)\n",
        "print(\"Squared list:\", result)\n"
      ],
      "metadata": {
        "colab": {
          "base_uri": "https://localhost:8080/"
        },
        "id": "-mN7JLbkwasN",
        "outputId": "e13e477f-d78f-47ec-8946-fc9cad40dba4"
      },
      "execution_count": 22,
      "outputs": [
        {
          "output_type": "stream",
          "name": "stdout",
          "text": [
            "Squared list: [1, 4, 9, 16, 25]\n"
          ]
        }
      ]
    },
    {
      "cell_type": "code",
      "source": [
        "# Write a Python function that checks if a given number is prime or not from 1 to 200.\n",
        "\n",
        "def is_prime(n):\n",
        "    if n < 2:\n",
        "        return False\n",
        "    for i in range(2, int(n**0.5) + 1):\n",
        "        if n % i == 0:\n",
        "            return False\n",
        "    return True\n"
      ],
      "metadata": {
        "id": "kTpNozApwfkV"
      },
      "execution_count": 23,
      "outputs": []
    },
    {
      "cell_type": "code",
      "source": [
        "num = 97\n",
        "if is_prime(num):\n",
        "    print(f\"{num} is a prime number.\")\n",
        "else:\n",
        "    print(f\"{num} is not a prime number.\")\n"
      ],
      "metadata": {
        "colab": {
          "base_uri": "https://localhost:8080/"
        },
        "id": "YrwyTac4xDLB",
        "outputId": "9ab94154-5f34-457a-f14b-c936916e4eb9"
      },
      "execution_count": 24,
      "outputs": [
        {
          "output_type": "stream",
          "name": "stdout",
          "text": [
            "97 is a prime number.\n"
          ]
        }
      ]
    },
    {
      "cell_type": "code",
      "source": [
        "# Create an iterator class in Python that generates the Fibonacci sequence up to a specified number of terms.\n",
        "\n",
        "class FibonacciIterator:\n",
        "    def __init__(self, n_terms):\n",
        "        self.n_terms = n_terms  # Total number of terms to generate\n",
        "        self.count = 0\n",
        "        self.a, self.b = 0, 1\n",
        "\n",
        "    def __iter__(self):\n",
        "        return self\n",
        "\n",
        "    def __next__(self):\n",
        "        if self.count >= self.n_terms:\n",
        "            raise StopIteration\n",
        "        if self.count == 0:\n",
        "            self.count += 1\n",
        "            return 0\n",
        "        elif self.count == 1:\n",
        "            self.count += 1\n",
        "            return 1\n",
        "        else:\n",
        "            self.a, self.b = self.b, self.a + self.b\n",
        "            self.count += 1\n",
        "            return self.a\n",
        "\n",
        "\n",
        "\n"
      ],
      "metadata": {
        "id": "n0jc14xWxsBM"
      },
      "execution_count": 7,
      "outputs": []
    },
    {
      "cell_type": "code",
      "source": [
        "# An iterator for 10 Fibonacci terms\n",
        "fib = FibonacciIterator(10)\n",
        "\n",
        "print(\"Fibonacci sequence up to 10 terms:\")\n",
        "for num in fib:\n",
        "    print(num, end=\" \")\n"
      ],
      "metadata": {
        "colab": {
          "base_uri": "https://localhost:8080/"
        },
        "id": "YQ9opZDQw40a",
        "outputId": "e6ab4513-aa79-42ef-cb63-fc836ad11bb7"
      },
      "execution_count": 8,
      "outputs": [
        {
          "output_type": "stream",
          "name": "stdout",
          "text": [
            "Fibonacci sequence up to 10 terms:\n",
            "0 1 1 1 2 3 5 8 13 21 "
          ]
        }
      ]
    },
    {
      "cell_type": "code",
      "source": [
        "# Write a generator function in Python that yields the powers of 2 up to a given exponent.\n",
        "\n",
        "def powers_of_two(max_exponent):\n",
        "    for exp in range(max_exponent + 1):\n",
        "        yield 2 ** exp\n"
      ],
      "metadata": {
        "id": "NRgTEX_GxMwP"
      },
      "execution_count": 9,
      "outputs": []
    },
    {
      "cell_type": "code",
      "source": [
        "# Powers of 2 from 2^0 to 2^5\n",
        "for power in powers_of_two(5):\n",
        "    print(power, end=\" \")\n"
      ],
      "metadata": {
        "colab": {
          "base_uri": "https://localhost:8080/"
        },
        "id": "39mLixtCxmcw",
        "outputId": "8986c9e9-5db1-4217-fd99-b0e4292c38e6"
      },
      "execution_count": 10,
      "outputs": [
        {
          "output_type": "stream",
          "name": "stdout",
          "text": [
            "1 2 4 8 16 32 "
          ]
        }
      ]
    },
    {
      "cell_type": "code",
      "source": [
        "#  Implement a generator function that reads a file line by line and yields each line as a string.\n",
        "\n",
        "def read_file_lines(file_path):\n",
        "    with open(file_path, 'r') as file:\n",
        "        for line in file:\n",
        "            yield line.strip()  # `strip()` removes newline characters\n",
        "\n",
        "\n"
      ],
      "metadata": {
        "id": "VOrmbH6tyQ--"
      },
      "execution_count": 34,
      "outputs": []
    },
    {
      "cell_type": "code",
      "source": [
        "# Use a lambda function in Python to sort a list of tuples based on the second element of each tuple.\n",
        "\n",
        "# List of tuples\n",
        "data = [(1, 5), (3, 1), (2, 8), (4, 2)]\n",
        "\n",
        "# Sort based on the second element using a lambda function\n",
        "sorted_data = sorted(data, key=lambda x: x[1])\n",
        "\n",
        "print(\"Sorted list based on second element:\", sorted_data)\n"
      ],
      "metadata": {
        "colab": {
          "base_uri": "https://localhost:8080/"
        },
        "id": "ITtFKOoL5HEZ",
        "outputId": "d7c72980-e76b-41ca-845f-9a6ff92efc7e"
      },
      "execution_count": 41,
      "outputs": [
        {
          "output_type": "stream",
          "name": "stdout",
          "text": [
            "Sorted list based on second element: [(3, 1), (4, 2), (1, 5), (2, 8)]\n"
          ]
        }
      ]
    },
    {
      "cell_type": "code",
      "source": [
        "# Write a Python program that uses `map()` to convert a list of temperatures from Celsius to Fahrenheit.\n",
        "\n",
        "# Formula - Fahrenheit=(Celsius×9/5) + 32\n",
        "\n",
        "celsius_temps = [0, 20, 30, 37, 100]\n",
        "fahrenheit_temps = list(map(lambda c: (c * 9/5) + 32, celsius_temps))\n",
        "print(\"Celsius temperatures:\", celsius_temps)\n",
        "print(\"Fahrenheit temperatures:\", fahrenheit_temps)\n",
        "\n"
      ],
      "metadata": {
        "colab": {
          "base_uri": "https://localhost:8080/"
        },
        "id": "KS2vpa4u51gz",
        "outputId": "3227ceb4-6839-4ed8-d842-b59cad1f7da8"
      },
      "execution_count": 42,
      "outputs": [
        {
          "output_type": "stream",
          "name": "stdout",
          "text": [
            "Celsius temperatures: [0, 20, 30, 37, 100]\n",
            "Fahrenheit temperatures: [32.0, 68.0, 86.0, 98.6, 212.0]\n"
          ]
        }
      ]
    },
    {
      "cell_type": "code",
      "source": [
        "# Create a Python program that uses `filter()` to remove all the vowels from a given string.\n",
        "\n",
        "def remove_vowels(text):\n",
        "    vowels = \"aeiouAEIOU\"\n",
        "    return ''.join(filter(lambda char: char not in vowels, text))\n",
        "\n",
        "# Example usage\n",
        "input_str = \"Hello, how are you?\"\n",
        "result = remove_vowels(input_str)\n",
        "\n",
        "print(\"Original string:\", input_str)\n",
        "print(\"String without vowels:\", result)\n"
      ],
      "metadata": {
        "colab": {
          "base_uri": "https://localhost:8080/"
        },
        "id": "CXs5bGOp7KiH",
        "outputId": "62a9669a-321f-47ba-84f6-95ee4c500d3e"
      },
      "execution_count": 56,
      "outputs": [
        {
          "output_type": "stream",
          "name": "stdout",
          "text": [
            "Original string: Hello, how are you?\n",
            "String without vowels: Hll, hw r y?\n"
          ]
        }
      ]
    },
    {
      "cell_type": "code",
      "source": [
        "Order Number/n"
      ],
      "metadata": {
        "id": "sBSKdORt9XSt"
      },
      "execution_count": null,
      "outputs": []
    }
  ]
}